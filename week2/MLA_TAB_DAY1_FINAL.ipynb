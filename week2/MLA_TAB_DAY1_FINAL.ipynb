{
  "cells": [
    {
      "cell_type": "markdown",
      "metadata": {
        "id": "view-in-github",
        "colab_type": "text"
      },
      "source": [
        "<a href=\"https://colab.research.google.com/github/KanishkGar/AIMProjects/blob/main/week2/MLA_TAB_DAY1_FINAL.ipynb\" target=\"_parent\"><img src=\"https://colab.research.google.com/assets/colab-badge.svg\" alt=\"Open In Colab\"/></a>"
      ]
    },
    {
      "cell_type": "markdown",
      "metadata": {
        "id": "gwrwDOA3y927"
      },
      "source": [
        "# <a name=\"0\">Machine Learning Accelerator - Tabular Data - Lecture 1</a>\n",
        "\n",
        "\n",
        "## Final Project \n",
        "\n",
        "In this notebook, we build a ML model to predict the __Time at Center__ field of our final project dataset.\n",
        "\n",
        "1. <a href=\"#1\">Read the dataset</a> (Given) \n",
        "2. <a href=\"#2\">Train a model</a> (Implement)\n",
        "    * <a href=\"#21\">Exploratory Data Analysis</a>\n",
        "    * <a href=\"#22\">Select features to build the model</a>\n",
        "    * <a href=\"#23\">Data processing</a>\n",
        "    * <a href=\"#24\">Model training</a>\n",
        "3. <a href=\"#3\">Make predictions on the test dataset</a> (Implement)\n",
        "4. <a href=\"#4\">Write the test predictions to a CSV file</a> (Given)\n",
        "\n",
        "__Austin Animal Center Dataset__:\n",
        "\n",
        "In this exercise, we are working with pet adoption data from __Austin Animal Center__. We have two datasets that cover intake and outcome of animals. Intake data is available from [here](https://data.austintexas.gov/Health-and-Community-Services/Austin-Animal-Center-Intakes/wter-evkm) and outcome is from [here](https://data.austintexas.gov/Health-and-Community-Services/Austin-Animal-Center-Outcomes/9t4d-g238). \n",
        "\n",
        "In order to work with a single table, we joined the intake and outcome tables using the \"Animal ID\" column and created a training.csv, test_features.csv and y_test.csv files. Similar to our review dataset, we didn't consider animals with multiple entries to the facility to keep it simple. If you want to see the original datasets, they are available under data/review folder: Austin_Animal_Center_Intakes.csv, Austin_Animal_Center_Outcomes.csv.\n",
        "\n",
        "__Dataset schema:__ \n",
        "- __Pet ID__ - Unique ID of pet\n",
        "- __Outcome Type__ - State of pet at the time of recording the outcome\n",
        "- __Sex upon Outcome__ - Sex of pet at outcome\n",
        "- __Name__ - Name of pet \n",
        "- __Found Location__ - Found location of pet before entered the center\n",
        "- __Intake Type__ - Circumstances bringing the pet to the center\n",
        "- __Intake Condition__ - Health condition of pet when entered the center\n",
        "- __Pet Type__ - Type of pet\n",
        "- __Sex upon Intake__ - Sex of pet when entered the center\n",
        "- __Breed__ - Breed of pet \n",
        "- __Color__ - Color of pet \n",
        "- __Age upon Intake Days__ - Age of pet when entered the center (days)\n",
        "- __Time at Center__ - Time at center (0 = less than 30 days; 1 = more than 30 days). This is the value to predict. \n"
      ]
    },
    {
      "cell_type": "code",
      "execution_count": 1,
      "metadata": {
        "colab": {
          "base_uri": "https://localhost:8080/"
        },
        "id": "P2hn1Otuy929",
        "outputId": "15aef9c7-646b-4d41-ba54-af2382e517e1"
      },
      "outputs": [
        {
          "output_type": "stream",
          "name": "stdout",
          "text": [
            "Requirement already satisfied: pandas in /usr/local/lib/python3.7/dist-packages (1.3.5)\n",
            "Requirement already satisfied: numpy>=1.17.3 in /usr/local/lib/python3.7/dist-packages (from pandas) (1.21.5)\n",
            "Requirement already satisfied: python-dateutil>=2.7.3 in /usr/local/lib/python3.7/dist-packages (from pandas) (2.8.2)\n",
            "Requirement already satisfied: pytz>=2017.3 in /usr/local/lib/python3.7/dist-packages (from pandas) (2018.9)\n",
            "Requirement already satisfied: six>=1.5 in /usr/local/lib/python3.7/dist-packages (from python-dateutil>=2.7.3->pandas) (1.15.0)\n",
            "Requirement already satisfied: numpy in /usr/local/lib/python3.7/dist-packages (1.21.5)\n"
          ]
        }
      ],
      "source": [
        "!pip install pandas\n",
        "!pip install numpy\n"
      ]
    },
    {
      "cell_type": "markdown",
      "metadata": {
        "id": "J_G1ixlGy92-"
      },
      "source": [
        "## 1. <a name=\"1\">Read the datasets</a> (Given)\n",
        "(<a href=\"#0\">Go to top</a>)\n",
        "\n",
        "Let's read the datasets into dataframes, using Pandas."
      ]
    },
    {
      "cell_type": "code",
      "execution_count": 2,
      "metadata": {
        "colab": {
          "base_uri": "https://localhost:8080/"
        },
        "id": "v2SKqpliy92_",
        "outputId": "d177b04d-162f-432b-8111-c43fffa4439e"
      },
      "outputs": [
        {
          "output_type": "stream",
          "name": "stdout",
          "text": [
            "The shape of the training dataset is: (71538, 13)\n",
            "The shape of the test dataset is: (23846, 12)\n"
          ]
        }
      ],
      "source": [
        "import pandas as pd\n",
        "import numpy as np\n",
        "\n",
        "import warnings\n",
        "warnings.filterwarnings(\"ignore\")\n",
        "  \n",
        "training_data = pd.read_csv('training.csv')\n",
        "test_data = pd.read_csv('test_features.csv')\n",
        "\n",
        "print('The shape of the training dataset is:', training_data.shape)\n",
        "print('The shape of the test dataset is:', test_data.shape)\n"
      ]
    },
    {
      "cell_type": "markdown",
      "metadata": {
        "id": "U5Bbw4U_y93A"
      },
      "source": [
        "## 2. <a name=\"2\">Train a model</a> (Implement)\n",
        "(<a href=\"#0\">Go to top</a>)\n",
        "\n",
        " * <a href=\"#21\">Exploratory Data Analysis</a>\n",
        " * <a href=\"#22\">Select features to build the model</a>\n",
        " * <a href=\"#23\">Data processing</a>\n",
        " * <a href=\"#24\">Model training</a>\n",
        "\n",
        "### 2.1 <a name=\"21\">Exploratory Data Analysis</a> \n",
        "(<a href=\"#2\">Go to Train a model</a>)\n",
        "\n",
        "We look at number of rows, columns and some simple statistics of the dataset."
      ]
    },
    {
      "cell_type": "code",
      "execution_count": 3,
      "metadata": {
        "colab": {
          "base_uri": "https://localhost:8080/",
          "height": 406
        },
        "id": "SeuGYM0ay93B",
        "outputId": "4f5fa5ea-525f-411b-f19f-57a79ebe411b"
      },
      "outputs": [
        {
          "output_type": "execute_result",
          "data": {
            "text/html": [
              "\n",
              "  <div id=\"df-e4f592e5-8c84-4832-a0ae-3879adf5ad19\">\n",
              "    <div class=\"colab-df-container\">\n",
              "      <div>\n",
              "<style scoped>\n",
              "    .dataframe tbody tr th:only-of-type {\n",
              "        vertical-align: middle;\n",
              "    }\n",
              "\n",
              "    .dataframe tbody tr th {\n",
              "        vertical-align: top;\n",
              "    }\n",
              "\n",
              "    .dataframe thead th {\n",
              "        text-align: right;\n",
              "    }\n",
              "</style>\n",
              "<table border=\"1\" class=\"dataframe\">\n",
              "  <thead>\n",
              "    <tr style=\"text-align: right;\">\n",
              "      <th></th>\n",
              "      <th>Pet ID</th>\n",
              "      <th>Outcome Type</th>\n",
              "      <th>Sex upon Outcome</th>\n",
              "      <th>Name</th>\n",
              "      <th>Found Location</th>\n",
              "      <th>Intake Type</th>\n",
              "      <th>Intake Condition</th>\n",
              "      <th>Pet Type</th>\n",
              "      <th>Sex upon Intake</th>\n",
              "      <th>Breed</th>\n",
              "      <th>Color</th>\n",
              "      <th>Age upon Intake Days</th>\n",
              "      <th>Time at Center</th>\n",
              "    </tr>\n",
              "  </thead>\n",
              "  <tbody>\n",
              "    <tr>\n",
              "      <th>0</th>\n",
              "      <td>A745079</td>\n",
              "      <td>Transfer</td>\n",
              "      <td>Unknown</td>\n",
              "      <td>NaN</td>\n",
              "      <td>7920 Old Lockhart in Travis (TX)</td>\n",
              "      <td>Stray</td>\n",
              "      <td>Normal</td>\n",
              "      <td>Cat</td>\n",
              "      <td>Unknown</td>\n",
              "      <td>Domestic Shorthair Mix</td>\n",
              "      <td>Blue</td>\n",
              "      <td>3</td>\n",
              "      <td>0</td>\n",
              "    </tr>\n",
              "    <tr>\n",
              "      <th>1</th>\n",
              "      <td>A801765</td>\n",
              "      <td>Transfer</td>\n",
              "      <td>Intact Female</td>\n",
              "      <td>NaN</td>\n",
              "      <td>5006 Table Top in Austin (TX)</td>\n",
              "      <td>Stray</td>\n",
              "      <td>Normal</td>\n",
              "      <td>Cat</td>\n",
              "      <td>Intact Female</td>\n",
              "      <td>Domestic Shorthair</td>\n",
              "      <td>Brown Tabby/White</td>\n",
              "      <td>28</td>\n",
              "      <td>0</td>\n",
              "    </tr>\n",
              "    <tr>\n",
              "      <th>2</th>\n",
              "      <td>A667965</td>\n",
              "      <td>Transfer</td>\n",
              "      <td>Neutered Male</td>\n",
              "      <td>NaN</td>\n",
              "      <td>14100 Thermal Dr in Austin (TX)</td>\n",
              "      <td>Stray</td>\n",
              "      <td>Normal</td>\n",
              "      <td>Dog</td>\n",
              "      <td>Neutered Male</td>\n",
              "      <td>Chihuahua Shorthair Mix</td>\n",
              "      <td>Brown/Tan</td>\n",
              "      <td>1825</td>\n",
              "      <td>0</td>\n",
              "    </tr>\n",
              "    <tr>\n",
              "      <th>3</th>\n",
              "      <td>A687551</td>\n",
              "      <td>Transfer</td>\n",
              "      <td>Intact Male</td>\n",
              "      <td>NaN</td>\n",
              "      <td>5811 Cedardale Dr in Austin (TX)</td>\n",
              "      <td>Stray</td>\n",
              "      <td>Normal</td>\n",
              "      <td>Cat</td>\n",
              "      <td>Intact Male</td>\n",
              "      <td>Domestic Shorthair Mix</td>\n",
              "      <td>Brown Tabby</td>\n",
              "      <td>28</td>\n",
              "      <td>0</td>\n",
              "    </tr>\n",
              "    <tr>\n",
              "      <th>4</th>\n",
              "      <td>A773004</td>\n",
              "      <td>Adoption</td>\n",
              "      <td>Neutered Male</td>\n",
              "      <td>*Boris</td>\n",
              "      <td>Highway 290 And Arterial A in Austin (TX)</td>\n",
              "      <td>Stray</td>\n",
              "      <td>Normal</td>\n",
              "      <td>Dog</td>\n",
              "      <td>Intact Male</td>\n",
              "      <td>Chihuahua Shorthair Mix</td>\n",
              "      <td>Tricolor/Cream</td>\n",
              "      <td>365</td>\n",
              "      <td>0</td>\n",
              "    </tr>\n",
              "  </tbody>\n",
              "</table>\n",
              "</div>\n",
              "      <button class=\"colab-df-convert\" onclick=\"convertToInteractive('df-e4f592e5-8c84-4832-a0ae-3879adf5ad19')\"\n",
              "              title=\"Convert this dataframe to an interactive table.\"\n",
              "              style=\"display:none;\">\n",
              "        \n",
              "  <svg xmlns=\"http://www.w3.org/2000/svg\" height=\"24px\"viewBox=\"0 0 24 24\"\n",
              "       width=\"24px\">\n",
              "    <path d=\"M0 0h24v24H0V0z\" fill=\"none\"/>\n",
              "    <path d=\"M18.56 5.44l.94 2.06.94-2.06 2.06-.94-2.06-.94-.94-2.06-.94 2.06-2.06.94zm-11 1L8.5 8.5l.94-2.06 2.06-.94-2.06-.94L8.5 2.5l-.94 2.06-2.06.94zm10 10l.94 2.06.94-2.06 2.06-.94-2.06-.94-.94-2.06-.94 2.06-2.06.94z\"/><path d=\"M17.41 7.96l-1.37-1.37c-.4-.4-.92-.59-1.43-.59-.52 0-1.04.2-1.43.59L10.3 9.45l-7.72 7.72c-.78.78-.78 2.05 0 2.83L4 21.41c.39.39.9.59 1.41.59.51 0 1.02-.2 1.41-.59l7.78-7.78 2.81-2.81c.8-.78.8-2.07 0-2.86zM5.41 20L4 18.59l7.72-7.72 1.47 1.35L5.41 20z\"/>\n",
              "  </svg>\n",
              "      </button>\n",
              "      \n",
              "  <style>\n",
              "    .colab-df-container {\n",
              "      display:flex;\n",
              "      flex-wrap:wrap;\n",
              "      gap: 12px;\n",
              "    }\n",
              "\n",
              "    .colab-df-convert {\n",
              "      background-color: #E8F0FE;\n",
              "      border: none;\n",
              "      border-radius: 50%;\n",
              "      cursor: pointer;\n",
              "      display: none;\n",
              "      fill: #1967D2;\n",
              "      height: 32px;\n",
              "      padding: 0 0 0 0;\n",
              "      width: 32px;\n",
              "    }\n",
              "\n",
              "    .colab-df-convert:hover {\n",
              "      background-color: #E2EBFA;\n",
              "      box-shadow: 0px 1px 2px rgba(60, 64, 67, 0.3), 0px 1px 3px 1px rgba(60, 64, 67, 0.15);\n",
              "      fill: #174EA6;\n",
              "    }\n",
              "\n",
              "    [theme=dark] .colab-df-convert {\n",
              "      background-color: #3B4455;\n",
              "      fill: #D2E3FC;\n",
              "    }\n",
              "\n",
              "    [theme=dark] .colab-df-convert:hover {\n",
              "      background-color: #434B5C;\n",
              "      box-shadow: 0px 1px 3px 1px rgba(0, 0, 0, 0.15);\n",
              "      filter: drop-shadow(0px 1px 2px rgba(0, 0, 0, 0.3));\n",
              "      fill: #FFFFFF;\n",
              "    }\n",
              "  </style>\n",
              "\n",
              "      <script>\n",
              "        const buttonEl =\n",
              "          document.querySelector('#df-e4f592e5-8c84-4832-a0ae-3879adf5ad19 button.colab-df-convert');\n",
              "        buttonEl.style.display =\n",
              "          google.colab.kernel.accessAllowed ? 'block' : 'none';\n",
              "\n",
              "        async function convertToInteractive(key) {\n",
              "          const element = document.querySelector('#df-e4f592e5-8c84-4832-a0ae-3879adf5ad19');\n",
              "          const dataTable =\n",
              "            await google.colab.kernel.invokeFunction('convertToInteractive',\n",
              "                                                     [key], {});\n",
              "          if (!dataTable) return;\n",
              "\n",
              "          const docLinkHtml = 'Like what you see? Visit the ' +\n",
              "            '<a target=\"_blank\" href=https://colab.research.google.com/notebooks/data_table.ipynb>data table notebook</a>'\n",
              "            + ' to learn more about interactive tables.';\n",
              "          element.innerHTML = '';\n",
              "          dataTable['output_type'] = 'display_data';\n",
              "          await google.colab.output.renderOutput(dataTable, element);\n",
              "          const docLink = document.createElement('div');\n",
              "          docLink.innerHTML = docLinkHtml;\n",
              "          element.appendChild(docLink);\n",
              "        }\n",
              "      </script>\n",
              "    </div>\n",
              "  </div>\n",
              "  "
            ],
            "text/plain": [
              "    Pet ID Outcome Type  ... Age upon Intake Days Time at Center\n",
              "0  A745079     Transfer  ...                    3              0\n",
              "1  A801765     Transfer  ...                   28              0\n",
              "2  A667965     Transfer  ...                 1825              0\n",
              "3  A687551     Transfer  ...                   28              0\n",
              "4  A773004     Adoption  ...                  365              0\n",
              "\n",
              "[5 rows x 13 columns]"
            ]
          },
          "metadata": {},
          "execution_count": 3
        }
      ],
      "source": [
        "# Implement here\n",
        "\n",
        "training_data.head()"
      ]
    },
    {
      "cell_type": "code",
      "source": [
        ""
      ],
      "metadata": {
        "id": "fcYwg_uC-Fpq"
      },
      "execution_count": null,
      "outputs": []
    },
    {
      "cell_type": "code",
      "execution_count": 4,
      "metadata": {
        "colab": {
          "base_uri": "https://localhost:8080/",
          "height": 389
        },
        "id": "BdC27f5Yy93C",
        "outputId": "a035a3c1-da5d-4514-d23e-ccdb658a61e3"
      },
      "outputs": [
        {
          "output_type": "execute_result",
          "data": {
            "text/html": [
              "\n",
              "  <div id=\"df-2137c57b-8a60-45a6-a36e-b1b69afdac56\">\n",
              "    <div class=\"colab-df-container\">\n",
              "      <div>\n",
              "<style scoped>\n",
              "    .dataframe tbody tr th:only-of-type {\n",
              "        vertical-align: middle;\n",
              "    }\n",
              "\n",
              "    .dataframe tbody tr th {\n",
              "        vertical-align: top;\n",
              "    }\n",
              "\n",
              "    .dataframe thead th {\n",
              "        text-align: right;\n",
              "    }\n",
              "</style>\n",
              "<table border=\"1\" class=\"dataframe\">\n",
              "  <thead>\n",
              "    <tr style=\"text-align: right;\">\n",
              "      <th></th>\n",
              "      <th>Pet ID</th>\n",
              "      <th>Outcome Type</th>\n",
              "      <th>Sex upon Outcome</th>\n",
              "      <th>Name</th>\n",
              "      <th>Found Location</th>\n",
              "      <th>Intake Type</th>\n",
              "      <th>Intake Condition</th>\n",
              "      <th>Pet Type</th>\n",
              "      <th>Sex upon Intake</th>\n",
              "      <th>Breed</th>\n",
              "      <th>Color</th>\n",
              "      <th>Age upon Intake Days</th>\n",
              "    </tr>\n",
              "  </thead>\n",
              "  <tbody>\n",
              "    <tr>\n",
              "      <th>0</th>\n",
              "      <td>A782657</td>\n",
              "      <td>Adoption</td>\n",
              "      <td>Spayed Female</td>\n",
              "      <td>NaN</td>\n",
              "      <td>1911 Dear Run Drive in Austin (TX)</td>\n",
              "      <td>Stray</td>\n",
              "      <td>Normal</td>\n",
              "      <td>Dog</td>\n",
              "      <td>Intact Female</td>\n",
              "      <td>Labrador Retriever Mix</td>\n",
              "      <td>Black</td>\n",
              "      <td>60</td>\n",
              "    </tr>\n",
              "    <tr>\n",
              "      <th>1</th>\n",
              "      <td>A804622</td>\n",
              "      <td>Adoption</td>\n",
              "      <td>Neutered Male</td>\n",
              "      <td>NaN</td>\n",
              "      <td>702 Grand Canyon in Austin (TX)</td>\n",
              "      <td>Stray</td>\n",
              "      <td>Normal</td>\n",
              "      <td>Dog</td>\n",
              "      <td>Intact Male</td>\n",
              "      <td>Boxer/Anatol Shepherd</td>\n",
              "      <td>Brown/Tricolor</td>\n",
              "      <td>60</td>\n",
              "    </tr>\n",
              "    <tr>\n",
              "      <th>2</th>\n",
              "      <td>A786693</td>\n",
              "      <td>Return to Owner</td>\n",
              "      <td>Neutered Male</td>\n",
              "      <td>Zeus</td>\n",
              "      <td>Austin (TX)</td>\n",
              "      <td>Public Assist</td>\n",
              "      <td>Normal</td>\n",
              "      <td>Dog</td>\n",
              "      <td>Neutered Male</td>\n",
              "      <td>Australian Cattle Dog/Pit Bull</td>\n",
              "      <td>Black/White</td>\n",
              "      <td>3285</td>\n",
              "    </tr>\n",
              "    <tr>\n",
              "      <th>3</th>\n",
              "      <td>A693330</td>\n",
              "      <td>Adoption</td>\n",
              "      <td>Spayed Female</td>\n",
              "      <td>Hope</td>\n",
              "      <td>Levander Loop &amp; Airport Blvd in Austin (TX)</td>\n",
              "      <td>Stray</td>\n",
              "      <td>Normal</td>\n",
              "      <td>Dog</td>\n",
              "      <td>Intact Female</td>\n",
              "      <td>Miniature Poodle</td>\n",
              "      <td>Gray</td>\n",
              "      <td>1825</td>\n",
              "    </tr>\n",
              "    <tr>\n",
              "      <th>4</th>\n",
              "      <td>A812431</td>\n",
              "      <td>Adoption</td>\n",
              "      <td>Neutered Male</td>\n",
              "      <td>NaN</td>\n",
              "      <td>Austin (TX)</td>\n",
              "      <td>Owner Surrender</td>\n",
              "      <td>Injured</td>\n",
              "      <td>Cat</td>\n",
              "      <td>Intact Male</td>\n",
              "      <td>Domestic Shorthair</td>\n",
              "      <td>Blue/White</td>\n",
              "      <td>210</td>\n",
              "    </tr>\n",
              "  </tbody>\n",
              "</table>\n",
              "</div>\n",
              "      <button class=\"colab-df-convert\" onclick=\"convertToInteractive('df-2137c57b-8a60-45a6-a36e-b1b69afdac56')\"\n",
              "              title=\"Convert this dataframe to an interactive table.\"\n",
              "              style=\"display:none;\">\n",
              "        \n",
              "  <svg xmlns=\"http://www.w3.org/2000/svg\" height=\"24px\"viewBox=\"0 0 24 24\"\n",
              "       width=\"24px\">\n",
              "    <path d=\"M0 0h24v24H0V0z\" fill=\"none\"/>\n",
              "    <path d=\"M18.56 5.44l.94 2.06.94-2.06 2.06-.94-2.06-.94-.94-2.06-.94 2.06-2.06.94zm-11 1L8.5 8.5l.94-2.06 2.06-.94-2.06-.94L8.5 2.5l-.94 2.06-2.06.94zm10 10l.94 2.06.94-2.06 2.06-.94-2.06-.94-.94-2.06-.94 2.06-2.06.94z\"/><path d=\"M17.41 7.96l-1.37-1.37c-.4-.4-.92-.59-1.43-.59-.52 0-1.04.2-1.43.59L10.3 9.45l-7.72 7.72c-.78.78-.78 2.05 0 2.83L4 21.41c.39.39.9.59 1.41.59.51 0 1.02-.2 1.41-.59l7.78-7.78 2.81-2.81c.8-.78.8-2.07 0-2.86zM5.41 20L4 18.59l7.72-7.72 1.47 1.35L5.41 20z\"/>\n",
              "  </svg>\n",
              "      </button>\n",
              "      \n",
              "  <style>\n",
              "    .colab-df-container {\n",
              "      display:flex;\n",
              "      flex-wrap:wrap;\n",
              "      gap: 12px;\n",
              "    }\n",
              "\n",
              "    .colab-df-convert {\n",
              "      background-color: #E8F0FE;\n",
              "      border: none;\n",
              "      border-radius: 50%;\n",
              "      cursor: pointer;\n",
              "      display: none;\n",
              "      fill: #1967D2;\n",
              "      height: 32px;\n",
              "      padding: 0 0 0 0;\n",
              "      width: 32px;\n",
              "    }\n",
              "\n",
              "    .colab-df-convert:hover {\n",
              "      background-color: #E2EBFA;\n",
              "      box-shadow: 0px 1px 2px rgba(60, 64, 67, 0.3), 0px 1px 3px 1px rgba(60, 64, 67, 0.15);\n",
              "      fill: #174EA6;\n",
              "    }\n",
              "\n",
              "    [theme=dark] .colab-df-convert {\n",
              "      background-color: #3B4455;\n",
              "      fill: #D2E3FC;\n",
              "    }\n",
              "\n",
              "    [theme=dark] .colab-df-convert:hover {\n",
              "      background-color: #434B5C;\n",
              "      box-shadow: 0px 1px 3px 1px rgba(0, 0, 0, 0.15);\n",
              "      filter: drop-shadow(0px 1px 2px rgba(0, 0, 0, 0.3));\n",
              "      fill: #FFFFFF;\n",
              "    }\n",
              "  </style>\n",
              "\n",
              "      <script>\n",
              "        const buttonEl =\n",
              "          document.querySelector('#df-2137c57b-8a60-45a6-a36e-b1b69afdac56 button.colab-df-convert');\n",
              "        buttonEl.style.display =\n",
              "          google.colab.kernel.accessAllowed ? 'block' : 'none';\n",
              "\n",
              "        async function convertToInteractive(key) {\n",
              "          const element = document.querySelector('#df-2137c57b-8a60-45a6-a36e-b1b69afdac56');\n",
              "          const dataTable =\n",
              "            await google.colab.kernel.invokeFunction('convertToInteractive',\n",
              "                                                     [key], {});\n",
              "          if (!dataTable) return;\n",
              "\n",
              "          const docLinkHtml = 'Like what you see? Visit the ' +\n",
              "            '<a target=\"_blank\" href=https://colab.research.google.com/notebooks/data_table.ipynb>data table notebook</a>'\n",
              "            + ' to learn more about interactive tables.';\n",
              "          element.innerHTML = '';\n",
              "          dataTable['output_type'] = 'display_data';\n",
              "          await google.colab.output.renderOutput(dataTable, element);\n",
              "          const docLink = document.createElement('div');\n",
              "          docLink.innerHTML = docLinkHtml;\n",
              "          element.appendChild(docLink);\n",
              "        }\n",
              "      </script>\n",
              "    </div>\n",
              "  </div>\n",
              "  "
            ],
            "text/plain": [
              "    Pet ID     Outcome Type  ...           Color Age upon Intake Days\n",
              "0  A782657         Adoption  ...           Black                   60\n",
              "1  A804622         Adoption  ...  Brown/Tricolor                   60\n",
              "2  A786693  Return to Owner  ...     Black/White                 3285\n",
              "3  A693330         Adoption  ...            Gray                 1825\n",
              "4  A812431         Adoption  ...      Blue/White                  210\n",
              "\n",
              "[5 rows x 12 columns]"
            ]
          },
          "metadata": {},
          "execution_count": 4
        }
      ],
      "source": [
        "# Implement here\n",
        "\n",
        "test_data.head()"
      ]
    },
    {
      "cell_type": "code",
      "source": [
        "print(training_data.info())\n",
        "test_data.info()"
      ],
      "metadata": {
        "colab": {
          "base_uri": "https://localhost:8080/"
        },
        "id": "dh8fXKQI-IOc",
        "outputId": "43c56f08-8cb0-4f66-bd63-0c3cd64c37a1"
      },
      "execution_count": 5,
      "outputs": [
        {
          "output_type": "stream",
          "name": "stdout",
          "text": [
            "<class 'pandas.core.frame.DataFrame'>\n",
            "RangeIndex: 71538 entries, 0 to 71537\n",
            "Data columns (total 13 columns):\n",
            " #   Column                Non-Null Count  Dtype \n",
            "---  ------                --------------  ----- \n",
            " 0   Pet ID                71538 non-null  object\n",
            " 1   Outcome Type          71533 non-null  object\n",
            " 2   Sex upon Outcome      71537 non-null  object\n",
            " 3   Name                  44360 non-null  object\n",
            " 4   Found Location        71538 non-null  object\n",
            " 5   Intake Type           71538 non-null  object\n",
            " 6   Intake Condition      71538 non-null  object\n",
            " 7   Pet Type              71538 non-null  object\n",
            " 8   Sex upon Intake       71537 non-null  object\n",
            " 9   Breed                 71538 non-null  object\n",
            " 10  Color                 71538 non-null  object\n",
            " 11  Age upon Intake Days  71538 non-null  int64 \n",
            " 12  Time at Center        71538 non-null  int64 \n",
            "dtypes: int64(2), object(11)\n",
            "memory usage: 7.1+ MB\n",
            "None\n",
            "<class 'pandas.core.frame.DataFrame'>\n",
            "RangeIndex: 23846 entries, 0 to 23845\n",
            "Data columns (total 12 columns):\n",
            " #   Column                Non-Null Count  Dtype \n",
            "---  ------                --------------  ----- \n",
            " 0   Pet ID                23846 non-null  object\n",
            " 1   Outcome Type          23846 non-null  object\n",
            " 2   Sex upon Outcome      23846 non-null  object\n",
            " 3   Name                  14733 non-null  object\n",
            " 4   Found Location        23846 non-null  object\n",
            " 5   Intake Type           23846 non-null  object\n",
            " 6   Intake Condition      23846 non-null  object\n",
            " 7   Pet Type              23846 non-null  object\n",
            " 8   Sex upon Intake       23846 non-null  object\n",
            " 9   Breed                 23846 non-null  object\n",
            " 10  Color                 23846 non-null  object\n",
            " 11  Age upon Intake Days  23846 non-null  int64 \n",
            "dtypes: int64(1), object(11)\n",
            "memory usage: 2.2+ MB\n"
          ]
        }
      ]
    },
    {
      "cell_type": "code",
      "source": [
        "print(training_data.describe())\n",
        "test_data.describe()"
      ],
      "metadata": {
        "colab": {
          "base_uri": "https://localhost:8080/",
          "height": 456
        },
        "id": "c0SWToRJ-U2c",
        "outputId": "2740238a-1bd8-4b2e-f954-a1d2ff4b6118"
      },
      "execution_count": 6,
      "outputs": [
        {
          "output_type": "stream",
          "name": "stdout",
          "text": [
            "       Age upon Intake Days  Time at Center\n",
            "count          71538.000000    71538.000000\n",
            "mean             702.701487        0.087003\n",
            "std             1051.158334        0.281841\n",
            "min                0.000000        0.000000\n",
            "25%               30.000000        0.000000\n",
            "50%              365.000000        0.000000\n",
            "75%              730.000000        0.000000\n",
            "max             9125.000000        1.000000\n"
          ]
        },
        {
          "output_type": "execute_result",
          "data": {
            "text/html": [
              "\n",
              "  <div id=\"df-e737d617-feab-48bc-8bb7-a67563dd3352\">\n",
              "    <div class=\"colab-df-container\">\n",
              "      <div>\n",
              "<style scoped>\n",
              "    .dataframe tbody tr th:only-of-type {\n",
              "        vertical-align: middle;\n",
              "    }\n",
              "\n",
              "    .dataframe tbody tr th {\n",
              "        vertical-align: top;\n",
              "    }\n",
              "\n",
              "    .dataframe thead th {\n",
              "        text-align: right;\n",
              "    }\n",
              "</style>\n",
              "<table border=\"1\" class=\"dataframe\">\n",
              "  <thead>\n",
              "    <tr style=\"text-align: right;\">\n",
              "      <th></th>\n",
              "      <th>Age upon Intake Days</th>\n",
              "    </tr>\n",
              "  </thead>\n",
              "  <tbody>\n",
              "    <tr>\n",
              "      <th>count</th>\n",
              "      <td>23846.000000</td>\n",
              "    </tr>\n",
              "    <tr>\n",
              "      <th>mean</th>\n",
              "      <td>708.514300</td>\n",
              "    </tr>\n",
              "    <tr>\n",
              "      <th>std</th>\n",
              "      <td>1056.841712</td>\n",
              "    </tr>\n",
              "    <tr>\n",
              "      <th>min</th>\n",
              "      <td>0.000000</td>\n",
              "    </tr>\n",
              "    <tr>\n",
              "      <th>25%</th>\n",
              "      <td>30.000000</td>\n",
              "    </tr>\n",
              "    <tr>\n",
              "      <th>50%</th>\n",
              "      <td>365.000000</td>\n",
              "    </tr>\n",
              "    <tr>\n",
              "      <th>75%</th>\n",
              "      <td>730.000000</td>\n",
              "    </tr>\n",
              "    <tr>\n",
              "      <th>max</th>\n",
              "      <td>8030.000000</td>\n",
              "    </tr>\n",
              "  </tbody>\n",
              "</table>\n",
              "</div>\n",
              "      <button class=\"colab-df-convert\" onclick=\"convertToInteractive('df-e737d617-feab-48bc-8bb7-a67563dd3352')\"\n",
              "              title=\"Convert this dataframe to an interactive table.\"\n",
              "              style=\"display:none;\">\n",
              "        \n",
              "  <svg xmlns=\"http://www.w3.org/2000/svg\" height=\"24px\"viewBox=\"0 0 24 24\"\n",
              "       width=\"24px\">\n",
              "    <path d=\"M0 0h24v24H0V0z\" fill=\"none\"/>\n",
              "    <path d=\"M18.56 5.44l.94 2.06.94-2.06 2.06-.94-2.06-.94-.94-2.06-.94 2.06-2.06.94zm-11 1L8.5 8.5l.94-2.06 2.06-.94-2.06-.94L8.5 2.5l-.94 2.06-2.06.94zm10 10l.94 2.06.94-2.06 2.06-.94-2.06-.94-.94-2.06-.94 2.06-2.06.94z\"/><path d=\"M17.41 7.96l-1.37-1.37c-.4-.4-.92-.59-1.43-.59-.52 0-1.04.2-1.43.59L10.3 9.45l-7.72 7.72c-.78.78-.78 2.05 0 2.83L4 21.41c.39.39.9.59 1.41.59.51 0 1.02-.2 1.41-.59l7.78-7.78 2.81-2.81c.8-.78.8-2.07 0-2.86zM5.41 20L4 18.59l7.72-7.72 1.47 1.35L5.41 20z\"/>\n",
              "  </svg>\n",
              "      </button>\n",
              "      \n",
              "  <style>\n",
              "    .colab-df-container {\n",
              "      display:flex;\n",
              "      flex-wrap:wrap;\n",
              "      gap: 12px;\n",
              "    }\n",
              "\n",
              "    .colab-df-convert {\n",
              "      background-color: #E8F0FE;\n",
              "      border: none;\n",
              "      border-radius: 50%;\n",
              "      cursor: pointer;\n",
              "      display: none;\n",
              "      fill: #1967D2;\n",
              "      height: 32px;\n",
              "      padding: 0 0 0 0;\n",
              "      width: 32px;\n",
              "    }\n",
              "\n",
              "    .colab-df-convert:hover {\n",
              "      background-color: #E2EBFA;\n",
              "      box-shadow: 0px 1px 2px rgba(60, 64, 67, 0.3), 0px 1px 3px 1px rgba(60, 64, 67, 0.15);\n",
              "      fill: #174EA6;\n",
              "    }\n",
              "\n",
              "    [theme=dark] .colab-df-convert {\n",
              "      background-color: #3B4455;\n",
              "      fill: #D2E3FC;\n",
              "    }\n",
              "\n",
              "    [theme=dark] .colab-df-convert:hover {\n",
              "      background-color: #434B5C;\n",
              "      box-shadow: 0px 1px 3px 1px rgba(0, 0, 0, 0.15);\n",
              "      filter: drop-shadow(0px 1px 2px rgba(0, 0, 0, 0.3));\n",
              "      fill: #FFFFFF;\n",
              "    }\n",
              "  </style>\n",
              "\n",
              "      <script>\n",
              "        const buttonEl =\n",
              "          document.querySelector('#df-e737d617-feab-48bc-8bb7-a67563dd3352 button.colab-df-convert');\n",
              "        buttonEl.style.display =\n",
              "          google.colab.kernel.accessAllowed ? 'block' : 'none';\n",
              "\n",
              "        async function convertToInteractive(key) {\n",
              "          const element = document.querySelector('#df-e737d617-feab-48bc-8bb7-a67563dd3352');\n",
              "          const dataTable =\n",
              "            await google.colab.kernel.invokeFunction('convertToInteractive',\n",
              "                                                     [key], {});\n",
              "          if (!dataTable) return;\n",
              "\n",
              "          const docLinkHtml = 'Like what you see? Visit the ' +\n",
              "            '<a target=\"_blank\" href=https://colab.research.google.com/notebooks/data_table.ipynb>data table notebook</a>'\n",
              "            + ' to learn more about interactive tables.';\n",
              "          element.innerHTML = '';\n",
              "          dataTable['output_type'] = 'display_data';\n",
              "          await google.colab.output.renderOutput(dataTable, element);\n",
              "          const docLink = document.createElement('div');\n",
              "          docLink.innerHTML = docLinkHtml;\n",
              "          element.appendChild(docLink);\n",
              "        }\n",
              "      </script>\n",
              "    </div>\n",
              "  </div>\n",
              "  "
            ],
            "text/plain": [
              "       Age upon Intake Days\n",
              "count          23846.000000\n",
              "mean             708.514300\n",
              "std             1056.841712\n",
              "min                0.000000\n",
              "25%               30.000000\n",
              "50%              365.000000\n",
              "75%              730.000000\n",
              "max             8030.000000"
            ]
          },
          "metadata": {},
          "execution_count": 6
        }
      ]
    },
    {
      "cell_type": "markdown",
      "metadata": {
        "id": "SvU0p8Pry93D"
      },
      "source": [
        "### 2.2 <a name=\"22\">Select features to build the model</a> \n",
        "(<a href=\"#2\">Go to Train a model</a>)\n"
      ]
    },
    {
      "cell_type": "code",
      "execution_count": 9,
      "metadata": {
        "colab": {
          "base_uri": "https://localhost:8080/"
        },
        "id": "p7ODSwi7y93E",
        "outputId": "33c046b6-0098-4c56-ab45-79d9ea29579f"
      },
      "outputs": [
        {
          "output_type": "stream",
          "name": "stdout",
          "text": [
            "Numerical columns: Index(['Age upon Intake Days', 'Time at Center'], dtype='object')\n",
            "Categorical columns: Index(['Sex upon Outcome', 'Intake Type', 'Intake Condition', 'Pet Type',\n",
            "       'Sex upon Intake', 'Breed', 'Color'],\n",
            "      dtype='object')\n"
          ]
        }
      ],
      "source": [
        "# Implement here\n",
        "model_features = training_data.columns.drop('Outcome Type')\n",
        "model_target = 'Outcome Type'\n",
        "\n",
        "# numerical_features = ...\n",
        "numerical_features_all = training_data[model_features].select_dtypes(include=np.number).columns\n",
        "print('Numerical columns:',numerical_features_all)\n",
        "\n",
        "categorical_features_all = training_data[model_features].select_dtypes(include='object').columns\n",
        "print('Categorical columns:',categorical_features_all)"
      ]
    },
    {
      "cell_type": "code",
      "source": [
        "training_data.drop(labels=['Pet ID', 'Found Location'], axis=1, inplace=True)\n",
        "test_data.drop(labels=['Pet ID', 'Found Location'], axis=1, inplace=True)"
      ],
      "metadata": {
        "id": "UGECfyq2AObp"
      },
      "execution_count": 7,
      "outputs": []
    },
    {
      "cell_type": "code",
      "source": [
        "training_data.drop(labels=['Name'], axis=1, inplace=True)\n",
        "test_data.drop(labels=['Name'], axis=1, inplace=True)"
      ],
      "metadata": {
        "id": "kmRQj6kRBdqa"
      },
      "execution_count": 8,
      "outputs": []
    },
    {
      "cell_type": "code",
      "source": [
        "test_data.head()"
      ],
      "metadata": {
        "colab": {
          "base_uri": "https://localhost:8080/",
          "height": 302
        },
        "id": "Aq6GwC6-BRbU",
        "outputId": "5f8b5e23-e26c-45d0-bb5c-e0140d1e9afe"
      },
      "execution_count": 10,
      "outputs": [
        {
          "output_type": "execute_result",
          "data": {
            "text/html": [
              "\n",
              "  <div id=\"df-13c0dd04-e782-4b86-bbbb-7d693c9c3554\">\n",
              "    <div class=\"colab-df-container\">\n",
              "      <div>\n",
              "<style scoped>\n",
              "    .dataframe tbody tr th:only-of-type {\n",
              "        vertical-align: middle;\n",
              "    }\n",
              "\n",
              "    .dataframe tbody tr th {\n",
              "        vertical-align: top;\n",
              "    }\n",
              "\n",
              "    .dataframe thead th {\n",
              "        text-align: right;\n",
              "    }\n",
              "</style>\n",
              "<table border=\"1\" class=\"dataframe\">\n",
              "  <thead>\n",
              "    <tr style=\"text-align: right;\">\n",
              "      <th></th>\n",
              "      <th>Outcome Type</th>\n",
              "      <th>Sex upon Outcome</th>\n",
              "      <th>Intake Type</th>\n",
              "      <th>Intake Condition</th>\n",
              "      <th>Pet Type</th>\n",
              "      <th>Sex upon Intake</th>\n",
              "      <th>Breed</th>\n",
              "      <th>Color</th>\n",
              "      <th>Age upon Intake Days</th>\n",
              "    </tr>\n",
              "  </thead>\n",
              "  <tbody>\n",
              "    <tr>\n",
              "      <th>0</th>\n",
              "      <td>Adoption</td>\n",
              "      <td>Spayed Female</td>\n",
              "      <td>Stray</td>\n",
              "      <td>Normal</td>\n",
              "      <td>Dog</td>\n",
              "      <td>Intact Female</td>\n",
              "      <td>Labrador Retriever Mix</td>\n",
              "      <td>Black</td>\n",
              "      <td>60</td>\n",
              "    </tr>\n",
              "    <tr>\n",
              "      <th>1</th>\n",
              "      <td>Adoption</td>\n",
              "      <td>Neutered Male</td>\n",
              "      <td>Stray</td>\n",
              "      <td>Normal</td>\n",
              "      <td>Dog</td>\n",
              "      <td>Intact Male</td>\n",
              "      <td>Boxer/Anatol Shepherd</td>\n",
              "      <td>Brown/Tricolor</td>\n",
              "      <td>60</td>\n",
              "    </tr>\n",
              "    <tr>\n",
              "      <th>2</th>\n",
              "      <td>Return to Owner</td>\n",
              "      <td>Neutered Male</td>\n",
              "      <td>Public Assist</td>\n",
              "      <td>Normal</td>\n",
              "      <td>Dog</td>\n",
              "      <td>Neutered Male</td>\n",
              "      <td>Australian Cattle Dog/Pit Bull</td>\n",
              "      <td>Black/White</td>\n",
              "      <td>3285</td>\n",
              "    </tr>\n",
              "    <tr>\n",
              "      <th>3</th>\n",
              "      <td>Adoption</td>\n",
              "      <td>Spayed Female</td>\n",
              "      <td>Stray</td>\n",
              "      <td>Normal</td>\n",
              "      <td>Dog</td>\n",
              "      <td>Intact Female</td>\n",
              "      <td>Miniature Poodle</td>\n",
              "      <td>Gray</td>\n",
              "      <td>1825</td>\n",
              "    </tr>\n",
              "    <tr>\n",
              "      <th>4</th>\n",
              "      <td>Adoption</td>\n",
              "      <td>Neutered Male</td>\n",
              "      <td>Owner Surrender</td>\n",
              "      <td>Injured</td>\n",
              "      <td>Cat</td>\n",
              "      <td>Intact Male</td>\n",
              "      <td>Domestic Shorthair</td>\n",
              "      <td>Blue/White</td>\n",
              "      <td>210</td>\n",
              "    </tr>\n",
              "  </tbody>\n",
              "</table>\n",
              "</div>\n",
              "      <button class=\"colab-df-convert\" onclick=\"convertToInteractive('df-13c0dd04-e782-4b86-bbbb-7d693c9c3554')\"\n",
              "              title=\"Convert this dataframe to an interactive table.\"\n",
              "              style=\"display:none;\">\n",
              "        \n",
              "  <svg xmlns=\"http://www.w3.org/2000/svg\" height=\"24px\"viewBox=\"0 0 24 24\"\n",
              "       width=\"24px\">\n",
              "    <path d=\"M0 0h24v24H0V0z\" fill=\"none\"/>\n",
              "    <path d=\"M18.56 5.44l.94 2.06.94-2.06 2.06-.94-2.06-.94-.94-2.06-.94 2.06-2.06.94zm-11 1L8.5 8.5l.94-2.06 2.06-.94-2.06-.94L8.5 2.5l-.94 2.06-2.06.94zm10 10l.94 2.06.94-2.06 2.06-.94-2.06-.94-.94-2.06-.94 2.06-2.06.94z\"/><path d=\"M17.41 7.96l-1.37-1.37c-.4-.4-.92-.59-1.43-.59-.52 0-1.04.2-1.43.59L10.3 9.45l-7.72 7.72c-.78.78-.78 2.05 0 2.83L4 21.41c.39.39.9.59 1.41.59.51 0 1.02-.2 1.41-.59l7.78-7.78 2.81-2.81c.8-.78.8-2.07 0-2.86zM5.41 20L4 18.59l7.72-7.72 1.47 1.35L5.41 20z\"/>\n",
              "  </svg>\n",
              "      </button>\n",
              "      \n",
              "  <style>\n",
              "    .colab-df-container {\n",
              "      display:flex;\n",
              "      flex-wrap:wrap;\n",
              "      gap: 12px;\n",
              "    }\n",
              "\n",
              "    .colab-df-convert {\n",
              "      background-color: #E8F0FE;\n",
              "      border: none;\n",
              "      border-radius: 50%;\n",
              "      cursor: pointer;\n",
              "      display: none;\n",
              "      fill: #1967D2;\n",
              "      height: 32px;\n",
              "      padding: 0 0 0 0;\n",
              "      width: 32px;\n",
              "    }\n",
              "\n",
              "    .colab-df-convert:hover {\n",
              "      background-color: #E2EBFA;\n",
              "      box-shadow: 0px 1px 2px rgba(60, 64, 67, 0.3), 0px 1px 3px 1px rgba(60, 64, 67, 0.15);\n",
              "      fill: #174EA6;\n",
              "    }\n",
              "\n",
              "    [theme=dark] .colab-df-convert {\n",
              "      background-color: #3B4455;\n",
              "      fill: #D2E3FC;\n",
              "    }\n",
              "\n",
              "    [theme=dark] .colab-df-convert:hover {\n",
              "      background-color: #434B5C;\n",
              "      box-shadow: 0px 1px 3px 1px rgba(0, 0, 0, 0.15);\n",
              "      filter: drop-shadow(0px 1px 2px rgba(0, 0, 0, 0.3));\n",
              "      fill: #FFFFFF;\n",
              "    }\n",
              "  </style>\n",
              "\n",
              "      <script>\n",
              "        const buttonEl =\n",
              "          document.querySelector('#df-13c0dd04-e782-4b86-bbbb-7d693c9c3554 button.colab-df-convert');\n",
              "        buttonEl.style.display =\n",
              "          google.colab.kernel.accessAllowed ? 'block' : 'none';\n",
              "\n",
              "        async function convertToInteractive(key) {\n",
              "          const element = document.querySelector('#df-13c0dd04-e782-4b86-bbbb-7d693c9c3554');\n",
              "          const dataTable =\n",
              "            await google.colab.kernel.invokeFunction('convertToInteractive',\n",
              "                                                     [key], {});\n",
              "          if (!dataTable) return;\n",
              "\n",
              "          const docLinkHtml = 'Like what you see? Visit the ' +\n",
              "            '<a target=\"_blank\" href=https://colab.research.google.com/notebooks/data_table.ipynb>data table notebook</a>'\n",
              "            + ' to learn more about interactive tables.';\n",
              "          element.innerHTML = '';\n",
              "          dataTable['output_type'] = 'display_data';\n",
              "          await google.colab.output.renderOutput(dataTable, element);\n",
              "          const docLink = document.createElement('div');\n",
              "          docLink.innerHTML = docLinkHtml;\n",
              "          element.appendChild(docLink);\n",
              "        }\n",
              "      </script>\n",
              "    </div>\n",
              "  </div>\n",
              "  "
            ],
            "text/plain": [
              "      Outcome Type Sex upon Outcome  ...           Color Age upon Intake Days\n",
              "0         Adoption    Spayed Female  ...           Black                   60\n",
              "1         Adoption    Neutered Male  ...  Brown/Tricolor                   60\n",
              "2  Return to Owner    Neutered Male  ...     Black/White                 3285\n",
              "3         Adoption    Spayed Female  ...            Gray                 1825\n",
              "4         Adoption    Neutered Male  ...      Blue/White                  210\n",
              "\n",
              "[5 rows x 9 columns]"
            ]
          },
          "metadata": {},
          "execution_count": 10
        }
      ]
    },
    {
      "cell_type": "markdown",
      "metadata": {
        "id": "7mtZr1A_y93F"
      },
      "source": [
        "### 2.3 <a name=\"23\">Data Processing</a> \n",
        "(<a href=\"#2\">Go to Train a model</a>)\n"
      ]
    },
    {
      "cell_type": "code",
      "execution_count": 11,
      "metadata": {
        "scrolled": true,
        "colab": {
          "base_uri": "https://localhost:8080/"
        },
        "id": "iTg63sSty93F",
        "outputId": "56da8e10-b1d4-4413-919a-fdf0d24eea37"
      },
      "outputs": [
        {
          "output_type": "stream",
          "name": "stdout",
          "text": [
            "Requirement already satisfied: sklearn in /usr/local/lib/python3.7/dist-packages (0.0)\n",
            "Requirement already satisfied: scikit-learn in /usr/local/lib/python3.7/dist-packages (from sklearn) (1.0.2)\n",
            "Requirement already satisfied: scipy>=1.1.0 in /usr/local/lib/python3.7/dist-packages (from scikit-learn->sklearn) (1.4.1)\n",
            "Requirement already satisfied: numpy>=1.14.6 in /usr/local/lib/python3.7/dist-packages (from scikit-learn->sklearn) (1.21.5)\n",
            "Requirement already satisfied: joblib>=0.11 in /usr/local/lib/python3.7/dist-packages (from scikit-learn->sklearn) (1.1.0)\n",
            "Requirement already satisfied: threadpoolctl>=2.0.0 in /usr/local/lib/python3.7/dist-packages (from scikit-learn->sklearn) (3.1.0)\n"
          ]
        }
      ],
      "source": [
        "# Implement here\n",
        "!pip install sklearn\n",
        "from sklearn.model_selection import train_test_split\n",
        "train_data_a, test_data_a = train_test_split(training_data, test_size=0.1, shuffle=True, random_state=69)\n"
      ]
    },
    {
      "cell_type": "code",
      "source": [
        "print('Training set shape:', train_data_a.shape)\n",
        "\n",
        "print('Class 0 samples in the training set:', sum(train_data_a[model_target] != 'Adoption'))\n",
        "print('Class 1 samples in the training set:', sum(train_data_a[model_target] == 'Adoption'))\n",
        "\n",
        "print('Class 0 samples in the test set:', sum(test_data_a[model_target] != 'Adoption'))\n",
        "print('Class 1 samples in the test set:', sum(test_data_a[model_target] == 'Adoption'))"
      ],
      "metadata": {
        "colab": {
          "base_uri": "https://localhost:8080/"
        },
        "id": "zH5YKDBRC6lz",
        "outputId": "960abda3-e7f8-4b76-f5ba-d0427502daa5"
      },
      "execution_count": 12,
      "outputs": [
        {
          "output_type": "stream",
          "name": "stdout",
          "text": [
            "Training set shape: (64384, 10)\n",
            "Class 0 samples in the training set: 37571\n",
            "Class 1 samples in the training set: 26813\n",
            "Class 0 samples in the test set: 4171\n",
            "Class 1 samples in the test set: 2983\n"
          ]
        }
      ]
    },
    {
      "cell_type": "code",
      "source": [
        "from sklearn.utils import shuffle\n",
        "\n",
        "class_0_no = train_data_a[train_data_a[model_target] != 'Adoption']\n",
        "class_1_no = train_data_a[train_data_a[model_target] == 'Adoption']\n",
        "\n",
        "upsampled_class_0_no = class_0_no.sample(n=len(class_1_no), replace=True, random_state=42)\n",
        "\n",
        "train_data_b = pd.concat([class_1_no, upsampled_class_0_no])\n",
        "train_data_b = shuffle(train_data_b)"
      ],
      "metadata": {
        "id": "46D_35me8LzT"
      },
      "execution_count": 13,
      "outputs": []
    },
    {
      "cell_type": "code",
      "source": [
        "print('Training set shape:', train_data_a.shape)\n",
        "\n",
        "print('Class 0 samples in the training set:', sum(train_data_b[model_target] != 'Adoption'))\n",
        "print('Class 1 samples in the training set:', sum(train_data_b[model_target] == 'Adoption'))"
      ],
      "metadata": {
        "colab": {
          "base_uri": "https://localhost:8080/"
        },
        "id": "BLRzmd--8p6F",
        "outputId": "01bed987-5d20-4244-abdb-a29d027bc4cb"
      },
      "execution_count": 14,
      "outputs": [
        {
          "output_type": "stream",
          "name": "stdout",
          "text": [
            "Training set shape: (64384, 10)\n",
            "Class 0 samples in the training set: 26813\n",
            "Class 1 samples in the training set: 26813\n"
          ]
        }
      ]
    },
    {
      "cell_type": "markdown",
      "metadata": {
        "id": "XngAeZSDy93G"
      },
      "source": [
        "### 2.4 <a name=\"24\">Model training</a> \n",
        "(<a href=\"#2\">Go to Train a model</a>)\n"
      ]
    },
    {
      "cell_type": "code",
      "execution_count": 15,
      "metadata": {
        "scrolled": true,
        "colab": {
          "base_uri": "https://localhost:8080/",
          "height": 161
        },
        "id": "GeAZ3Y14y93G",
        "outputId": "6ff501c0-09b7-4ff2-aca8-1044f2bd37be"
      },
      "outputs": [
        {
          "output_type": "execute_result",
          "data": {
            "text/html": [
              "<style>#sk-bd8d9340-d4a3-4cbf-b560-80569ed38856 {color: black;background-color: white;}#sk-bd8d9340-d4a3-4cbf-b560-80569ed38856 pre{padding: 0;}#sk-bd8d9340-d4a3-4cbf-b560-80569ed38856 div.sk-toggleable {background-color: white;}#sk-bd8d9340-d4a3-4cbf-b560-80569ed38856 label.sk-toggleable__label {cursor: pointer;display: block;width: 100%;margin-bottom: 0;padding: 0.3em;box-sizing: border-box;text-align: center;}#sk-bd8d9340-d4a3-4cbf-b560-80569ed38856 label.sk-toggleable__label-arrow:before {content: \"▸\";float: left;margin-right: 0.25em;color: #696969;}#sk-bd8d9340-d4a3-4cbf-b560-80569ed38856 label.sk-toggleable__label-arrow:hover:before {color: black;}#sk-bd8d9340-d4a3-4cbf-b560-80569ed38856 div.sk-estimator:hover label.sk-toggleable__label-arrow:before {color: black;}#sk-bd8d9340-d4a3-4cbf-b560-80569ed38856 div.sk-toggleable__content {max-height: 0;max-width: 0;overflow: hidden;text-align: left;background-color: #f0f8ff;}#sk-bd8d9340-d4a3-4cbf-b560-80569ed38856 div.sk-toggleable__content pre {margin: 0.2em;color: black;border-radius: 0.25em;background-color: #f0f8ff;}#sk-bd8d9340-d4a3-4cbf-b560-80569ed38856 input.sk-toggleable__control:checked~div.sk-toggleable__content {max-height: 200px;max-width: 100%;overflow: auto;}#sk-bd8d9340-d4a3-4cbf-b560-80569ed38856 input.sk-toggleable__control:checked~label.sk-toggleable__label-arrow:before {content: \"▾\";}#sk-bd8d9340-d4a3-4cbf-b560-80569ed38856 div.sk-estimator input.sk-toggleable__control:checked~label.sk-toggleable__label {background-color: #d4ebff;}#sk-bd8d9340-d4a3-4cbf-b560-80569ed38856 div.sk-label input.sk-toggleable__control:checked~label.sk-toggleable__label {background-color: #d4ebff;}#sk-bd8d9340-d4a3-4cbf-b560-80569ed38856 input.sk-hidden--visually {border: 0;clip: rect(1px 1px 1px 1px);clip: rect(1px, 1px, 1px, 1px);height: 1px;margin: -1px;overflow: hidden;padding: 0;position: absolute;width: 1px;}#sk-bd8d9340-d4a3-4cbf-b560-80569ed38856 div.sk-estimator {font-family: monospace;background-color: #f0f8ff;border: 1px dotted black;border-radius: 0.25em;box-sizing: border-box;margin-bottom: 0.5em;}#sk-bd8d9340-d4a3-4cbf-b560-80569ed38856 div.sk-estimator:hover {background-color: #d4ebff;}#sk-bd8d9340-d4a3-4cbf-b560-80569ed38856 div.sk-parallel-item::after {content: \"\";width: 100%;border-bottom: 1px solid gray;flex-grow: 1;}#sk-bd8d9340-d4a3-4cbf-b560-80569ed38856 div.sk-label:hover label.sk-toggleable__label {background-color: #d4ebff;}#sk-bd8d9340-d4a3-4cbf-b560-80569ed38856 div.sk-serial::before {content: \"\";position: absolute;border-left: 1px solid gray;box-sizing: border-box;top: 2em;bottom: 0;left: 50%;}#sk-bd8d9340-d4a3-4cbf-b560-80569ed38856 div.sk-serial {display: flex;flex-direction: column;align-items: center;background-color: white;padding-right: 0.2em;padding-left: 0.2em;}#sk-bd8d9340-d4a3-4cbf-b560-80569ed38856 div.sk-item {z-index: 1;}#sk-bd8d9340-d4a3-4cbf-b560-80569ed38856 div.sk-parallel {display: flex;align-items: stretch;justify-content: center;background-color: white;}#sk-bd8d9340-d4a3-4cbf-b560-80569ed38856 div.sk-parallel::before {content: \"\";position: absolute;border-left: 1px solid gray;box-sizing: border-box;top: 2em;bottom: 0;left: 50%;}#sk-bd8d9340-d4a3-4cbf-b560-80569ed38856 div.sk-parallel-item {display: flex;flex-direction: column;position: relative;background-color: white;}#sk-bd8d9340-d4a3-4cbf-b560-80569ed38856 div.sk-parallel-item:first-child::after {align-self: flex-end;width: 50%;}#sk-bd8d9340-d4a3-4cbf-b560-80569ed38856 div.sk-parallel-item:last-child::after {align-self: flex-start;width: 50%;}#sk-bd8d9340-d4a3-4cbf-b560-80569ed38856 div.sk-parallel-item:only-child::after {width: 0;}#sk-bd8d9340-d4a3-4cbf-b560-80569ed38856 div.sk-dashed-wrapped {border: 1px dashed gray;margin: 0 0.4em 0.5em 0.4em;box-sizing: border-box;padding-bottom: 0.4em;background-color: white;position: relative;}#sk-bd8d9340-d4a3-4cbf-b560-80569ed38856 div.sk-label label {font-family: monospace;font-weight: bold;background-color: white;display: inline-block;line-height: 1.2em;}#sk-bd8d9340-d4a3-4cbf-b560-80569ed38856 div.sk-label-container {position: relative;z-index: 2;text-align: center;}#sk-bd8d9340-d4a3-4cbf-b560-80569ed38856 div.sk-container {/* jupyter's `normalize.less` sets `[hidden] { display: none; }` but bootstrap.min.css set `[hidden] { display: none !important; }` so we also need the `!important` here to be able to override the default hidden behavior on the sphinx rendered scikit-learn.org. See: https://github.com/scikit-learn/scikit-learn/issues/21755 */display: inline-block !important;position: relative;}#sk-bd8d9340-d4a3-4cbf-b560-80569ed38856 div.sk-text-repr-fallback {display: none;}</style><div id=\"sk-bd8d9340-d4a3-4cbf-b560-80569ed38856\" class=\"sk-top-container\"><div class=\"sk-text-repr-fallback\"><pre>Pipeline(steps=[(&#x27;imputer&#x27;, SimpleImputer()), (&#x27;scaler&#x27;, MinMaxScaler()),\n",
              "                (&#x27;estimator&#x27;, KNeighborsClassifier(n_neighbors=3))])</pre><b>Please rerun this cell to show the HTML repr or trust the notebook.</b></div><div class=\"sk-container\" hidden><div class=\"sk-item sk-dashed-wrapped\"><div class=\"sk-label-container\"><div class=\"sk-label sk-toggleable\"><input class=\"sk-toggleable__control sk-hidden--visually\" id=\"27deff70-0251-4697-8b02-c7040275b2ad\" type=\"checkbox\" ><label for=\"27deff70-0251-4697-8b02-c7040275b2ad\" class=\"sk-toggleable__label sk-toggleable__label-arrow\">Pipeline</label><div class=\"sk-toggleable__content\"><pre>Pipeline(steps=[(&#x27;imputer&#x27;, SimpleImputer()), (&#x27;scaler&#x27;, MinMaxScaler()),\n",
              "                (&#x27;estimator&#x27;, KNeighborsClassifier(n_neighbors=3))])</pre></div></div></div><div class=\"sk-serial\"><div class=\"sk-item\"><div class=\"sk-estimator sk-toggleable\"><input class=\"sk-toggleable__control sk-hidden--visually\" id=\"59a1cb01-6c8f-487c-b6af-ff8aa9e77c2b\" type=\"checkbox\" ><label for=\"59a1cb01-6c8f-487c-b6af-ff8aa9e77c2b\" class=\"sk-toggleable__label sk-toggleable__label-arrow\">SimpleImputer</label><div class=\"sk-toggleable__content\"><pre>SimpleImputer()</pre></div></div></div><div class=\"sk-item\"><div class=\"sk-estimator sk-toggleable\"><input class=\"sk-toggleable__control sk-hidden--visually\" id=\"9021f3c7-4f78-4515-9390-f410f1e25f46\" type=\"checkbox\" ><label for=\"9021f3c7-4f78-4515-9390-f410f1e25f46\" class=\"sk-toggleable__label sk-toggleable__label-arrow\">MinMaxScaler</label><div class=\"sk-toggleable__content\"><pre>MinMaxScaler()</pre></div></div></div><div class=\"sk-item\"><div class=\"sk-estimator sk-toggleable\"><input class=\"sk-toggleable__control sk-hidden--visually\" id=\"eea56eb6-e7a1-4654-83c0-cecab996e394\" type=\"checkbox\" ><label for=\"eea56eb6-e7a1-4654-83c0-cecab996e394\" class=\"sk-toggleable__label sk-toggleable__label-arrow\">KNeighborsClassifier</label><div class=\"sk-toggleable__content\"><pre>KNeighborsClassifier(n_neighbors=3)</pre></div></div></div></div></div></div></div>"
            ],
            "text/plain": [
              "Pipeline(steps=[('imputer', SimpleImputer()), ('scaler', MinMaxScaler()),\n",
              "                ('estimator', KNeighborsClassifier(n_neighbors=3))])"
            ]
          },
          "metadata": {},
          "execution_count": 15
        }
      ],
      "source": [
        "# Implement here\n",
        "from sklearn.model_selection import train_test_split\n",
        "from sklearn.impute import SimpleImputer\n",
        "from sklearn.preprocessing import MinMaxScaler\n",
        "from sklearn.neighbors import KNeighborsClassifier\n",
        "from sklearn.pipeline import Pipeline\n",
        "\n",
        "### PIPELINE ###\n",
        "################\n",
        "\n",
        "# Pipeline desired data transformers, along with an estimator at the end\n",
        "# For each step specify: a name, the actual transformer/estimator with its parameters\n",
        "classifier = Pipeline([\n",
        "    ('imputer', SimpleImputer(strategy='mean')),\n",
        "    ('scaler', MinMaxScaler()),\n",
        "    ('estimator', KNeighborsClassifier(n_neighbors = 3))\n",
        "])\n",
        "\n",
        "# Visualize the pipeline\n",
        "# This will come in handy especially when building more complex pipelines, stringing together multiple preprocessing steps\n",
        "from sklearn import set_config\n",
        "set_config(display='diagram')\n",
        "classifier"
      ]
    },
    {
      "cell_type": "code",
      "source": [
        "# Get train data to train the classifier\n",
        "X_train = train_data_b[numerical_features_all]\n",
        "y_train = train_data_b[model_target]\n",
        "\n",
        "# Fit the classifier to training data\n",
        "# Train data going through the Pipeline it's first imputed, then scaled, and finally used to fit the estimator\n",
        "classifier.fit(X_train, y_train)"
      ],
      "metadata": {
        "colab": {
          "base_uri": "https://localhost:8080/",
          "height": 161
        },
        "id": "zvqOtHL082lr",
        "outputId": "b70432d7-4df2-42c0-f262-47aa56ca7093"
      },
      "execution_count": 16,
      "outputs": [
        {
          "output_type": "execute_result",
          "data": {
            "text/html": [
              "<style>#sk-5289b533-7177-4d28-ae02-a449bc4d2abf {color: black;background-color: white;}#sk-5289b533-7177-4d28-ae02-a449bc4d2abf pre{padding: 0;}#sk-5289b533-7177-4d28-ae02-a449bc4d2abf div.sk-toggleable {background-color: white;}#sk-5289b533-7177-4d28-ae02-a449bc4d2abf label.sk-toggleable__label {cursor: pointer;display: block;width: 100%;margin-bottom: 0;padding: 0.3em;box-sizing: border-box;text-align: center;}#sk-5289b533-7177-4d28-ae02-a449bc4d2abf label.sk-toggleable__label-arrow:before {content: \"▸\";float: left;margin-right: 0.25em;color: #696969;}#sk-5289b533-7177-4d28-ae02-a449bc4d2abf label.sk-toggleable__label-arrow:hover:before {color: black;}#sk-5289b533-7177-4d28-ae02-a449bc4d2abf div.sk-estimator:hover label.sk-toggleable__label-arrow:before {color: black;}#sk-5289b533-7177-4d28-ae02-a449bc4d2abf div.sk-toggleable__content {max-height: 0;max-width: 0;overflow: hidden;text-align: left;background-color: #f0f8ff;}#sk-5289b533-7177-4d28-ae02-a449bc4d2abf div.sk-toggleable__content pre {margin: 0.2em;color: black;border-radius: 0.25em;background-color: #f0f8ff;}#sk-5289b533-7177-4d28-ae02-a449bc4d2abf input.sk-toggleable__control:checked~div.sk-toggleable__content {max-height: 200px;max-width: 100%;overflow: auto;}#sk-5289b533-7177-4d28-ae02-a449bc4d2abf input.sk-toggleable__control:checked~label.sk-toggleable__label-arrow:before {content: \"▾\";}#sk-5289b533-7177-4d28-ae02-a449bc4d2abf div.sk-estimator input.sk-toggleable__control:checked~label.sk-toggleable__label {background-color: #d4ebff;}#sk-5289b533-7177-4d28-ae02-a449bc4d2abf div.sk-label input.sk-toggleable__control:checked~label.sk-toggleable__label {background-color: #d4ebff;}#sk-5289b533-7177-4d28-ae02-a449bc4d2abf input.sk-hidden--visually {border: 0;clip: rect(1px 1px 1px 1px);clip: rect(1px, 1px, 1px, 1px);height: 1px;margin: -1px;overflow: hidden;padding: 0;position: absolute;width: 1px;}#sk-5289b533-7177-4d28-ae02-a449bc4d2abf div.sk-estimator {font-family: monospace;background-color: #f0f8ff;border: 1px dotted black;border-radius: 0.25em;box-sizing: border-box;margin-bottom: 0.5em;}#sk-5289b533-7177-4d28-ae02-a449bc4d2abf div.sk-estimator:hover {background-color: #d4ebff;}#sk-5289b533-7177-4d28-ae02-a449bc4d2abf div.sk-parallel-item::after {content: \"\";width: 100%;border-bottom: 1px solid gray;flex-grow: 1;}#sk-5289b533-7177-4d28-ae02-a449bc4d2abf div.sk-label:hover label.sk-toggleable__label {background-color: #d4ebff;}#sk-5289b533-7177-4d28-ae02-a449bc4d2abf div.sk-serial::before {content: \"\";position: absolute;border-left: 1px solid gray;box-sizing: border-box;top: 2em;bottom: 0;left: 50%;}#sk-5289b533-7177-4d28-ae02-a449bc4d2abf div.sk-serial {display: flex;flex-direction: column;align-items: center;background-color: white;padding-right: 0.2em;padding-left: 0.2em;}#sk-5289b533-7177-4d28-ae02-a449bc4d2abf div.sk-item {z-index: 1;}#sk-5289b533-7177-4d28-ae02-a449bc4d2abf div.sk-parallel {display: flex;align-items: stretch;justify-content: center;background-color: white;}#sk-5289b533-7177-4d28-ae02-a449bc4d2abf div.sk-parallel::before {content: \"\";position: absolute;border-left: 1px solid gray;box-sizing: border-box;top: 2em;bottom: 0;left: 50%;}#sk-5289b533-7177-4d28-ae02-a449bc4d2abf div.sk-parallel-item {display: flex;flex-direction: column;position: relative;background-color: white;}#sk-5289b533-7177-4d28-ae02-a449bc4d2abf div.sk-parallel-item:first-child::after {align-self: flex-end;width: 50%;}#sk-5289b533-7177-4d28-ae02-a449bc4d2abf div.sk-parallel-item:last-child::after {align-self: flex-start;width: 50%;}#sk-5289b533-7177-4d28-ae02-a449bc4d2abf div.sk-parallel-item:only-child::after {width: 0;}#sk-5289b533-7177-4d28-ae02-a449bc4d2abf div.sk-dashed-wrapped {border: 1px dashed gray;margin: 0 0.4em 0.5em 0.4em;box-sizing: border-box;padding-bottom: 0.4em;background-color: white;position: relative;}#sk-5289b533-7177-4d28-ae02-a449bc4d2abf div.sk-label label {font-family: monospace;font-weight: bold;background-color: white;display: inline-block;line-height: 1.2em;}#sk-5289b533-7177-4d28-ae02-a449bc4d2abf div.sk-label-container {position: relative;z-index: 2;text-align: center;}#sk-5289b533-7177-4d28-ae02-a449bc4d2abf div.sk-container {/* jupyter's `normalize.less` sets `[hidden] { display: none; }` but bootstrap.min.css set `[hidden] { display: none !important; }` so we also need the `!important` here to be able to override the default hidden behavior on the sphinx rendered scikit-learn.org. See: https://github.com/scikit-learn/scikit-learn/issues/21755 */display: inline-block !important;position: relative;}#sk-5289b533-7177-4d28-ae02-a449bc4d2abf div.sk-text-repr-fallback {display: none;}</style><div id=\"sk-5289b533-7177-4d28-ae02-a449bc4d2abf\" class=\"sk-top-container\"><div class=\"sk-text-repr-fallback\"><pre>Pipeline(steps=[(&#x27;imputer&#x27;, SimpleImputer()), (&#x27;scaler&#x27;, MinMaxScaler()),\n",
              "                (&#x27;estimator&#x27;, KNeighborsClassifier(n_neighbors=3))])</pre><b>Please rerun this cell to show the HTML repr or trust the notebook.</b></div><div class=\"sk-container\" hidden><div class=\"sk-item sk-dashed-wrapped\"><div class=\"sk-label-container\"><div class=\"sk-label sk-toggleable\"><input class=\"sk-toggleable__control sk-hidden--visually\" id=\"f9ec45cd-0570-4963-b254-480bd69455b0\" type=\"checkbox\" ><label for=\"f9ec45cd-0570-4963-b254-480bd69455b0\" class=\"sk-toggleable__label sk-toggleable__label-arrow\">Pipeline</label><div class=\"sk-toggleable__content\"><pre>Pipeline(steps=[(&#x27;imputer&#x27;, SimpleImputer()), (&#x27;scaler&#x27;, MinMaxScaler()),\n",
              "                (&#x27;estimator&#x27;, KNeighborsClassifier(n_neighbors=3))])</pre></div></div></div><div class=\"sk-serial\"><div class=\"sk-item\"><div class=\"sk-estimator sk-toggleable\"><input class=\"sk-toggleable__control sk-hidden--visually\" id=\"3ea5b28e-c31c-45de-9523-5a1bed9381fe\" type=\"checkbox\" ><label for=\"3ea5b28e-c31c-45de-9523-5a1bed9381fe\" class=\"sk-toggleable__label sk-toggleable__label-arrow\">SimpleImputer</label><div class=\"sk-toggleable__content\"><pre>SimpleImputer()</pre></div></div></div><div class=\"sk-item\"><div class=\"sk-estimator sk-toggleable\"><input class=\"sk-toggleable__control sk-hidden--visually\" id=\"220f3ba2-7c4b-4c97-80ba-9a648dc07321\" type=\"checkbox\" ><label for=\"220f3ba2-7c4b-4c97-80ba-9a648dc07321\" class=\"sk-toggleable__label sk-toggleable__label-arrow\">MinMaxScaler</label><div class=\"sk-toggleable__content\"><pre>MinMaxScaler()</pre></div></div></div><div class=\"sk-item\"><div class=\"sk-estimator sk-toggleable\"><input class=\"sk-toggleable__control sk-hidden--visually\" id=\"a4053bd8-77ef-42c8-913f-b0bc741eb94f\" type=\"checkbox\" ><label for=\"a4053bd8-77ef-42c8-913f-b0bc741eb94f\" class=\"sk-toggleable__label sk-toggleable__label-arrow\">KNeighborsClassifier</label><div class=\"sk-toggleable__content\"><pre>KNeighborsClassifier(n_neighbors=3)</pre></div></div></div></div></div></div></div>"
            ],
            "text/plain": [
              "Pipeline(steps=[('imputer', SimpleImputer()), ('scaler', MinMaxScaler()),\n",
              "                ('estimator', KNeighborsClassifier(n_neighbors=3))])"
            ]
          },
          "metadata": {},
          "execution_count": 16
        }
      ]
    },
    {
      "cell_type": "code",
      "source": [
        "from sklearn.metrics import confusion_matrix, classification_report, accuracy_score, f1_score\n",
        "\n",
        "# Use the fitted model to make predictions on the train dataset\n",
        "# Train data going through the Pipeline it's first imputed (with means from the train), scaled (with the min/max from the train data), and finally used to make predictions\n",
        "train_predictions = classifier.predict(X_train)\n",
        "\n",
        "print('Model performance on the train set:')\n",
        "print(confusion_matrix(y_train, train_predictions))\n",
        "print(classification_report(y_train, train_predictions))\n",
        "print(\"Train accuracy:\", accuracy_score(y_train, train_predictions))"
      ],
      "metadata": {
        "colab": {
          "base_uri": "https://localhost:8080/"
        },
        "id": "mpjhJRYt89_w",
        "outputId": "4807648e-00e3-43e7-ee9a-da99b45e71ec"
      },
      "execution_count": 17,
      "outputs": [
        {
          "output_type": "stream",
          "name": "stdout",
          "text": [
            "Model performance on the train set:\n",
            "[[15999     0   244    84     0     0  5626     0  4860]\n",
            " [  181     0    89     0     0     0    91     0   160]\n",
            " [  130     0    32     0     0     0    68     0    12]\n",
            " [ 1727     0   198    11     0     0  1388     0   400]\n",
            " [   12     0     0     0     0     0     2     0     1]\n",
            " [    2     0     1     1     0     0     3     0     0]\n",
            " [ 3041     0    14    36     0     0  3336     0   202]\n",
            " [   83     0     0     7     0     0    70     0     2]\n",
            " [ 6681     0   809    31     0     0  3656     0  4336]]\n",
            "                 precision    recall  f1-score   support\n",
            "\n",
            "       Adoption       0.57      0.60      0.59     26813\n",
            "           Died       0.00      0.00      0.00       521\n",
            "       Disposal       0.02      0.13      0.04       242\n",
            "     Euthanasia       0.06      0.00      0.01      3724\n",
            "        Missing       0.00      0.00      0.00        15\n",
            "       Relocate       0.00      0.00      0.00         7\n",
            "Return to Owner       0.23      0.50      0.32      6629\n",
            "      Rto-Adopt       0.00      0.00      0.00       162\n",
            "       Transfer       0.43      0.28      0.34     15513\n",
            "\n",
            "       accuracy                           0.44     53626\n",
            "      macro avg       0.15      0.17      0.14     53626\n",
            "   weighted avg       0.45      0.44      0.43     53626\n",
            "\n",
            "Train accuracy: 0.44221086786260394\n"
          ]
        }
      ]
    },
    {
      "cell_type": "markdown",
      "metadata": {
        "id": "p7hGHl_hy93G"
      },
      "source": [
        "## 3. <a name=\"3\">Make predictions on the test dataset</a> (Implement)\n",
        "(<a href=\"#0\">Go to top</a>)\n",
        "\n",
        "Use the test set to make predictions with the trained model."
      ]
    },
    {
      "cell_type": "code",
      "execution_count": 24,
      "metadata": {
        "colab": {
          "base_uri": "https://localhost:8080/"
        },
        "id": "CToD8N5my93H",
        "outputId": "52817504-fc96-4cd6-ab7d-1051fdc8692e"
      },
      "outputs": [
        {
          "output_type": "stream",
          "name": "stdout",
          "text": [
            "Model performance on the test set:\n",
            "<class 'numpy.ndarray'>\n"
          ]
        }
      ],
      "source": [
        "# Implement here\n",
        "from sklearn.metrics import confusion_matrix, classification_report, accuracy_score, f1_score\n",
        "\n",
        "# Get test data to test the classifier\n",
        "X_test = test_data_a[numerical_features_all]\n",
        "y_test = test_data_a[model_target]\n",
        "\n",
        "# Use the fitted model to make predictions on the test dataset\n",
        "# Test data going through the Pipeline it's first imputed (with means from the train), scaled (with the min/max from the train data), and finally used to make predictions\n",
        "test_predictions = classifier.predict(X_test)\n",
        "\n",
        "print('Model performance on the test set:')\n",
        "print(type(test_predictions))\n",
        "# print(confusion_matrix(y_test, test_predictions))\n",
        "# print(classification_report(y_test, test_predictions))\n",
        "# print(\"Test accuracy:\", accuracy_score(y_test, test_predictions))\n",
        "\n",
        "# test_predictions = ..."
      ]
    },
    {
      "cell_type": "code",
      "source": [
        ""
      ],
      "metadata": {
        "id": "s9i3RZuS9O1W"
      },
      "execution_count": null,
      "outputs": []
    }
  ],
  "metadata": {
    "kernelspec": {
      "display_name": "conda_mxnet_p36",
      "language": "python",
      "name": "conda_mxnet_p36"
    },
    "language_info": {
      "codemirror_mode": {
        "name": "ipython",
        "version": 3
      },
      "file_extension": ".py",
      "mimetype": "text/x-python",
      "name": "python",
      "nbconvert_exporter": "python",
      "pygments_lexer": "ipython3",
      "version": "3.6.13"
    },
    "colab": {
      "name": "MLA-TAB-DAY1-FINAL.ipynb",
      "provenance": [],
      "include_colab_link": true
    }
  },
  "nbformat": 4,
  "nbformat_minor": 0
}